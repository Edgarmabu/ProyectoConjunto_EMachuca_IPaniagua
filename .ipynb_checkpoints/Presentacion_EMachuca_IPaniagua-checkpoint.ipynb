{
 "cells": [
  {
   "cell_type": "markdown",
   "metadata": {},
   "source": [
    "# $\\boldsymbol{\\mathbb{PRESENTACIÓN}}$"
   ]
  },
  {
   "cell_type": "markdown",
   "metadata": {},
   "source": [
    "## $ \\mathcal{EXPECTATIVAS}$ "
   ]
  },
  {
   "cell_type": "markdown",
   "metadata": {},
   "source": [
    "- En este curso esperamos aprender nuevos métodos de simulación financiera y poner en práctica los conocimientos adquiridos anteriormente a lo largo de la carrera.\n",
    "- Desarrollar nuestras habilidades de programación, tanto para procesos finacieros como para resolver resolver problemas de otra índole.\n",
    "- Ampliar nuestra baraja de herramientas a la hora de resolver problemas que involucren la programación.\n",
    "- Potencializar nuestro sentido de trabajo en equipo."
   ]
  },
  {
   "cell_type": "markdown",
   "metadata": {},
   "source": [
    "## $ \\mathcal{RESÚMEN}$ "
   ]
  },
  {
   "cell_type": "markdown",
   "metadata": {},
   "source": [
    "- Ni el mismo autor de python se imaginó que su lenguaje de programación fuera a tener tanto existo, sin embargo, ha escalado rapidamente para convertirse en uno de los favoritos a nivel mundial.\n",
    "- Su valor recae en su facilidad de usar y compartir. Los usuarios van desde estudiantes que realizan simples actividades hasta grandes empresas como la CIA, Google y Spotify. La comunidad autodenominada \"pythonista\" no es egoísta con sus códigos y comparte desde los más simples hasta los más complicados. En un tema que puede funcionar como un rompecabezas esto es de gran ayuda y alienta a nuevos usuarios a utilizar el lenguaje y a compartir.\n",
    "- Aún con todos estos beneficios, algunos expertos presagian que no llegará a ser el lenguaje de programación número uno, debido a el arraigo que tiene cierta porción de programadores a lenguajes como Java, C o C++. En adición, según el trabajador de IBM, cada lenguaje tiene sus fortalezas específicas.\n",
    "- Los \"pythonistas\" sin embargo, toman como ejemplo otros lenguajes para decir que ningun imperio es iderrocable por más grande que sea."
   ]
  },
  {
   "cell_type": "markdown",
   "metadata": {},
   "source": [
    "<img style=\"float: center; margin: 10px 10px 15px 200px;\" src=\"https://www.economist.com/img/b/1280/1401/85/sites/default/files/20180728_WOC883.png\" width=\"500px\" height=\"500px\" />"
   ]
  }
 ],
 "metadata": {
  "kernelspec": {
   "display_name": "Python 3",
   "language": "python",
   "name": "python3"
  },
  "language_info": {
   "codemirror_mode": {
    "name": "ipython",
    "version": 3
   },
   "file_extension": ".py",
   "mimetype": "text/x-python",
   "name": "python",
   "nbconvert_exporter": "python",
   "pygments_lexer": "ipython3",
   "version": "3.6.5"
  }
 },
 "nbformat": 4,
 "nbformat_minor": 2
}
