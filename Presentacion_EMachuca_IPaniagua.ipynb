{
 "cells": [
  {
   "cell_type": "markdown",
   "metadata": {},
   "source": [
    "<img style=\"float: left; margin: 30px 15px 15px 15px;\" src=\"https://pngimage.net/wp-content/uploads/2018/06/logo-iteso-png-5.png\" width=\"300\" height=\"500\" /> \n",
    "    \n",
    "    \n",
    "### <font color='navy'> Simulación de procesos financieros. \n",
    "\n",
    "**Nombres:** Edgar Machuca (Administrador, Estudiante1) e Iván Paniagua (Branch, Estudiante2).\n",
    "\n",
    "**Fecha:** 4 de febrero del 2020.\n",
    "\n",
    "**Expediente** : 715089 y 709025.\n",
    "**Profesor:** Oscar David Jaramillo Zuluaga.\n",
    "\n",
    "# Tarea 1: Simulación de Procesos Financieros"
   ]
  },
  {
   "cell_type": "markdown",
   "metadata": {},
   "source": [
    "## Proyecto conjunto Github y resumen python\n",
    "> Realizar lo establecido por el profesor en el pdf de la tarea 1."
   ]
  },
  {
   "cell_type": "markdown",
   "metadata": {},
   "source": [
    "# $\\boldsymbol{\\mathbb{PRESENTACIÓN}}$"
   ]
  },
  {
   "cell_type": "markdown",
   "metadata": {},
   "source": [
    "## $ \\mathcal{EXPECTATIVAS}$ "
   ]
  },
  {
   "cell_type": "markdown",
   "metadata": {},
   "source": [
    "- En este curso esperamos aprender nuevos métodos de simulación financiera y poner en práctica los conocimientos adquiridos anteriormente a lo largo de la carrera.\n",
    "- Desarrollar nuestras habilidades de programación, tanto para procesos finacieros como para resolver resolver problemas de otra índole.\n",
    "- Ampliar nuestra baraja de herramientas a la hora de resolver problemas que involucren la programación.\n",
    "- Potencializar nuestro sentido de trabajo en equipo."
   ]
  },
  {
   "cell_type": "markdown",
   "metadata": {},
   "source": [
    "## $ \\mathcal{RESÚMENES}$ "
   ]
  },
  {
   "cell_type": "markdown",
   "metadata": {},
   "source": [
    "### Python is becoming the world’s most popular coding language"
   ]
  },
  {
   "cell_type": "markdown",
   "metadata": {},
   "source": [
    "- Ni el mismo autor de python se imaginó que su lenguaje de programación fuera a tener tanto existo, sin embargo, ha escalado rapidamente para convertirse en uno de los favoritos a nivel mundial.\n",
    "- Su valor recae en su facilidad de usar y compartir. Los usuarios van desde estudiantes que realizan simples actividades hasta grandes empresas como la CIA, Google y Spotify. La comunidad autodenominada \"pythonista\" no es egoísta con sus códigos y comparte desde los más simples hasta los más complicados. En un tema que puede funcionar como un rompecabezas esto es de gran ayuda y alienta a nuevos usuarios a utilizar el lenguaje y a compartir.\n",
    "- Aún con todos estos beneficios, algunos expertos presagian que no llegará a ser el lenguaje de programación número uno, debido a el arraigo que tiene cierta porción de programadores a lenguajes como Java, C o C++. En adición, según el trabajador de IBM, cada lenguaje tiene sus fortalezas específicas.\n",
    "- Los \"pythonistas\" sin embargo, toman como ejemplo otros lenguajes para decir que ningun imperio es iderrocable por más grande que sea."
   ]
  },
  {
   "cell_type": "markdown",
   "metadata": {},
   "source": [
    "<img style=\"float: center; margin: 10px 10px 15px 200px;\" src=\"https://www.economist.com/img/b/1280/1401/85/sites/default/files/20180728_WOC883.png\" width=\"500px\" height=\"500px\" />"
   ]
  },
  {
   "cell_type": "markdown",
   "metadata": {},
   "source": [
    "| Posición | Más buscados en Google en 2018 |\n",
    "|----------|--------------------------------|\n",
    "| 1        | Python                         |\n",
    "| 2        | Java                           |\n",
    "| 3        | JavaScript                     |\n",
    "| 4        | R                              |\n",
    "| 5        | C++                            |\n",
    "| 6        | PHP                            |\n",
    "| 7        | Perl                           |"
   ]
  },
  {
   "cell_type": "markdown",
   "metadata": {},
   "source": [
    "## Transcripción Edgar"
   ]
  },
  {
   "cell_type": "markdown",
   "metadata": {},
   "source": [
    "$\\mathrm{1.}$ $\\mathrm{La~fórmula~el~rectángulo~se~obtiene~al~interpolar~a}$ $f(x)$ $\\mathrm{por~medio~del~polinomio~constante}$ $p_o(x)=f(\\frac{a+b}{2})$.\n",
    "\n",
    "$$\\int_{a}^{b}\\!f(x)~dx \\approx (b-a)f(\\frac{a+b}{2})~=~R(f).$$\n",
    "\n",
    "$\\mathrm{2.}$ $\\mathrm{La~fórmula~del~trapecio~se~obtiene~al~interpolar~a}$ $f$ $\\mathrm{por~medio~de~un~polinomio~lineal}$ $p_1(x)=\\alpha x+\\beta$ $\\mathrm{que~satisfaga}$ $f(a) = p_1(a),$ $\\mathrm{y~}$ $f(b) = p_1(b).$ $\\mathrm{Determinar~el~polinomio~lineal~es~equivalente~a~resolver~un~sistema~de~ecuaciones~lineales~para~\\alpha~y~\\beta~cuya~solución~es}$ \n",
    "\n",
    "$$\\alpha=\\frac{f(b)-f(a)}{b-a} \\quad \\beta=\\frac{f(b)a-f(a)b}{b-a}.$$\n",
    " \n",
    "$\\hspace{0.4cm}$ $\\mathrm{Al~integrar}$ $p_1(x)$ $\\mathrm{en~el~intervalo}$ $[a,b]$ $\\mathrm{se~obtiene~la~regla~del~trapecio~con}$ $h=b-a$\n",
    "\n",
    "$$\\int_{a}^{b}f(x)~dx \\approx \\int_{a}^{b} p_1(x)~dx=\\frac{h}{2}(f(a)+f(b))=T(f)$$\n",
    "\n",
    "$\\hspace{0.4cm}$ $\\mathrm{El~error~está~dado~por}$\n",
    "\n",
    "$$\\int_{a}^{b}f(x)~dx -T(f)=-\\frac{h^3}{12}f''(\\eta), \\hspace{1cm} a<\\eta<b.$$\n",
    "\n",
    "$\\mathrm{3.}$ $\\mathrm{Por~último~al~integrar~el~polinomio~cuadrático~que~interpola~a}$ $f$ $\\mathrm{en}$ $x=a$, $x=\\frac{a+b}{2}$, $\\mathrm{y}$ $x=b$ $\\mathrm{se~obtiene~la~regla~de~Simpson~con}$ $h= \\frac{b-a}{2}$\n",
    "\n",
    "$$\\int_{a}^{b}\\!f(x)~dx \\approx \\int_{a}^{b}\\!p_2(x)~dx= \\frac{h}{3}~(f(a)+~4f(a+h)+~f(b))~=~ S(f).$$\n",
    "\n",
    "$\\hspace{0.4cm}$ $\\mathrm{El~error~que~se~comete~al~usar~Simpson~es}$\n",
    "    \n",
    "$$\\int_{a}^{b}\\!f(x)~dx - S(f)~=~\\frac{h^5}{90}~(f^{(4)}(\\eta)), \\hspace{1cm} a<\\eta<b.$$"
   ]
  },
  {
   "cell_type": "markdown",
   "metadata": {},
   "source": [
    "## Transcripción Ivan"
   ]
  },
  {
   "cell_type": "markdown",
   "metadata": {},
   "source": []
  },
  {
   "cell_type": "code",
   "execution_count": 44,
   "metadata": {},
   "outputs": [],
   "source": [
    "import numpy as np"
   ]
  },
  {
   "cell_type": "markdown",
   "metadata": {},
   "source": [
    "### $\\boldsymbol{\\mathbb{Fibonacci}}$"
   ]
  },
  {
   "cell_type": "code",
   "execution_count": 45,
   "metadata": {},
   "outputs": [],
   "source": [
    "M= [0]*100"
   ]
  },
  {
   "cell_type": "code",
   "execution_count": 46,
   "metadata": {},
   "outputs": [],
   "source": [
    "for i in range(100):\n",
    "    M[i]= i+1, round(((1+np.sqrt(5))**i-(1-np.sqrt(5))**i)/(2**i*np.sqrt(5)))"
   ]
  },
  {
   "cell_type": "code",
   "execution_count": 47,
   "metadata": {},
   "outputs": [
    {
     "data": {
      "text/plain": [
       "[(1, 0.0),\n",
       " (2, 1.0),\n",
       " (3, 1.0),\n",
       " (4, 2.0),\n",
       " (5, 3.0),\n",
       " (6, 5.0),\n",
       " (7, 8.0),\n",
       " (8, 13.0),\n",
       " (9, 21.0),\n",
       " (10, 34.0),\n",
       " (11, 55.0),\n",
       " (12, 89.0),\n",
       " (13, 144.0),\n",
       " (14, 233.0),\n",
       " (15, 377.0),\n",
       " (16, 610.0),\n",
       " (17, 987.0),\n",
       " (18, 1597.0),\n",
       " (19, 2584.0),\n",
       " (20, 4181.0),\n",
       " (21, 6765.0),\n",
       " (22, 10946.0),\n",
       " (23, 17711.0),\n",
       " (24, 28657.0),\n",
       " (25, 46368.0),\n",
       " (26, 75025.0),\n",
       " (27, 121393.0),\n",
       " (28, 196418.0),\n",
       " (29, 317811.0),\n",
       " (30, 514229.0),\n",
       " (31, 832040.0),\n",
       " (32, 1346269.0),\n",
       " (33, 2178309.0),\n",
       " (34, 3524578.0),\n",
       " (35, 5702887.0),\n",
       " (36, 9227465.0),\n",
       " (37, 14930352.0),\n",
       " (38, 24157817.0),\n",
       " (39, 39088169.0),\n",
       " (40, 63245986.0),\n",
       " (41, 102334155.0),\n",
       " (42, 165580141.0),\n",
       " (43, 267914296.0),\n",
       " (44, 433494437.0),\n",
       " (45, 701408733.0),\n",
       " (46, 1134903170.0),\n",
       " (47, 1836311903.0),\n",
       " (48, 2971215073.0),\n",
       " (49, 4807526976.0),\n",
       " (50, 7778742049.0),\n",
       " (51, 12586269025.0),\n",
       " (52, 20365011074.0),\n",
       " (53, 32951280099.0),\n",
       " (54, 53316291173.0),\n",
       " (55, 86267571272.0),\n",
       " (56, 139583862445.0),\n",
       " (57, 225851433717.0),\n",
       " (58, 365435296162.0),\n",
       " (59, 591286729879.0),\n",
       " (60, 956722026041.0),\n",
       " (61, 1548008755920.0),\n",
       " (62, 2504730781961.0),\n",
       " (63, 4052739537881.0),\n",
       " (64, 6557470319842.0),\n",
       " (65, 10610209857723.0),\n",
       " (66, 17167680177565.0),\n",
       " (67, 27777890035288.0),\n",
       " (68, 44945570212853.0),\n",
       " (69, 72723460248141.0),\n",
       " (70, 117669030460994.0),\n",
       " (71, 190392490709135.0),\n",
       " (72, 308061521170130.0),\n",
       " (73, 498454011879265.0),\n",
       " (74, 806515533049395.0),\n",
       " (75, 1304969544928660.0),\n",
       " (76, 2111485077978055.0),\n",
       " (77, 3416454622906716.0),\n",
       " (78, 5527939700884771.0),\n",
       " (79, 8944394323791488.0),\n",
       " (80, 1.447233402467626e+16),\n",
       " (81, 2.3416728348467744e+16),\n",
       " (82, 3.788906237314401e+16),\n",
       " (83, 6.130579072161175e+16),\n",
       " (84, 9.919485309475578e+16),\n",
       " (85, 1.6050064381636755e+17),\n",
       " (86, 2.5969549691112333e+17),\n",
       " (87, 4.201961407274909e+17),\n",
       " (88, 6.798916376386143e+17),\n",
       " (89, 1.1000877783661051e+18),\n",
       " (90, 1.7799794160047194e+18),\n",
       " (91, 2.8800671943708247e+18),\n",
       " (92, 4.660046610375545e+18),\n",
       " (93, 7.540113804746369e+18),\n",
       " (94, 1.2200160415121914e+19),\n",
       " (95, 1.9740274219868283e+19),\n",
       " (96, 3.19404346349902e+19),\n",
       " (97, 5.168070885485849e+19),\n",
       " (98, 8.362114348984869e+19),\n",
       " (99, 1.3530185234470719e+20),\n",
       " (100, 2.189229958345559e+20)]"
      ]
     },
     "execution_count": 47,
     "metadata": {},
     "output_type": "execute_result"
    }
   ],
   "source": [
    "M"
   ]
  },
  {
   "cell_type": "markdown",
   "metadata": {},
   "source": [
    "### $\\boldsymbol{\\mathbb{Numeros}}$ $\\boldsymbol{\\mathbb{primos}}$"
   ]
  },
  {
   "cell_type": "code",
   "execution_count": 48,
   "metadata": {},
   "outputs": [
    {
     "data": {
      "text/plain": [
       "[2,\n",
       " 3,\n",
       " 5,\n",
       " 7,\n",
       " 11,\n",
       " 13,\n",
       " 17,\n",
       " 19,\n",
       " 23,\n",
       " 29,\n",
       " 31,\n",
       " 37,\n",
       " 41,\n",
       " 43,\n",
       " 47,\n",
       " 53,\n",
       " 59,\n",
       " 61,\n",
       " 67,\n",
       " 71,\n",
       " 73,\n",
       " 79,\n",
       " 83,\n",
       " 89,\n",
       " 97]"
      ]
     },
     "execution_count": 48,
     "metadata": {},
     "output_type": "execute_result"
    }
   ],
   "source": [
    "numerosprimos = []\n",
    "for a in range(2,101):\n",
    "    suma=0\n",
    "    for b in range (1,a+1):\n",
    "        if a%b==0:\n",
    "            suma=suma+1\n",
    "        else:\n",
    "            pass\n",
    "    if suma==2:\n",
    "        numerosprimos.append(a)\n",
    "numerosprimos"
   ]
  }
 ],
 "metadata": {
  "kernelspec": {
   "display_name": "Python 3",
   "language": "python",
   "name": "python3"
  },
  "language_info": {
   "codemirror_mode": {
    "name": "ipython",
    "version": 3
   },
   "file_extension": ".py",
   "mimetype": "text/x-python",
   "name": "python",
   "nbconvert_exporter": "python",
   "pygments_lexer": "ipython3",
   "version": "3.6.5"
  }
 },
 "nbformat": 4,
 "nbformat_minor": 2
}
